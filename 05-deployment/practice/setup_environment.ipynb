{
 "cells": [
  {
   "cell_type": "markdown",
   "id": "e79a71d8",
   "metadata": {},
   "source": [
    "## Deploying ML Models with FastAPI and uv"
   ]
  },
  {
   "cell_type": "markdown",
   "id": "fe64f5d6",
   "metadata": {},
   "source": [
    "Download the starter notebook and save it as workshop-uv-fastapi.ipynb. We will base our work on it."
   ]
  },
  {
   "cell_type": "code",
   "execution_count": 2,
   "id": "29d5ae9f",
   "metadata": {},
   "outputs": [
    {
     "name": "stdout",
     "output_type": "stream",
     "text": [
      "--2025-10-26 17:12:55--  https://raw.githubusercontent.com/alexeygrigorev/workshops/main/mlzoomcamp-fastapi-uv/starter.ipynb\n",
      "Resolving raw.githubusercontent.com (raw.githubusercontent.com)... 185.199.109.133, 185.199.110.133, 185.199.111.133, ...\n",
      "Connecting to raw.githubusercontent.com (raw.githubusercontent.com)|185.199.109.133|:443... connected.\n",
      "HTTP request sent, awaiting response... 200 OK\n",
      "Length: 34627 (34K) [text/plain]\n",
      "Saving to: ‘workshop-uv-fastapi.ipynb’\n",
      "\n",
      "workshop-uv-fastapi 100%[===================>]  33.82K  --.-KB/s    in 0.005s  \n",
      "\n",
      "2025-10-26 17:12:55 (6.04 MB/s) - ‘workshop-uv-fastapi.ipynb’ saved [34627/34627]\n",
      "\n"
     ]
    }
   ],
   "source": [
    "!wget https://raw.githubusercontent.com/alexeygrigorev/workshops/main/mlzoomcamp-fastapi-uv/starter.ipynb -O workshop-uv-fastapi.ipynb\n"
   ]
  }
 ],
 "metadata": {
  "kernelspec": {
   "display_name": "Python 3",
   "language": "python",
   "name": "python3"
  },
  "language_info": {
   "codemirror_mode": {
    "name": "ipython",
    "version": 3
   },
   "file_extension": ".py",
   "mimetype": "text/x-python",
   "name": "python",
   "nbconvert_exporter": "python",
   "pygments_lexer": "ipython3",
   "version": "3.12.1"
  }
 },
 "nbformat": 4,
 "nbformat_minor": 5
}
